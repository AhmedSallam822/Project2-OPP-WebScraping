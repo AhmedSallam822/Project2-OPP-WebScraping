{
 "cells": [
  {
   "cell_type": "markdown",
   "metadata": {},
   "source": [
    "## Taking User Personal Information\n"
   ]
  },
  {
   "cell_type": "code",
   "execution_count": 1,
   "metadata": {},
   "outputs": [],
   "source": [
    "class User :\n",
    "\n",
    "    def __init__(self,name,age,gender,balance):\n",
    "        self.name = name\n",
    "        self.age = age\n",
    "        self.gender = gender\n",
    "        self.balance = balance\n",
    "\n",
    "    def record(self):\n",
    "        self.data = [self.name ,self.age , self.gender , self.balance]\n",
    "    \n",
    "    def Show_record(self):\n",
    "        return self.data\n",
    "\n",
    "\n",
    "        \n"
   ]
  },
  {
   "cell_type": "markdown",
   "metadata": {},
   "source": [
    "## Preforming Bank Operations Such as (Deposit,Withdraw)"
   ]
  },
  {
   "cell_type": "code",
   "execution_count": 2,
   "metadata": {},
   "outputs": [],
   "source": [
    "class Bank(User):\n",
    "\n",
    "    def Deposit(self,amount):\n",
    "        self.amount = amount\n",
    "        self.balance += amount\n",
    "        print(f\"the New balance is {self.balance}\")\n",
    "\n",
    "    def Withdraw(self,amount):\n",
    "        self.amount = amount\n",
    "        if self.amount > self.balance :\n",
    "            print (\"can not withdraw\")\n",
    "        else :    \n",
    "            self.balance -= amount\n",
    "            print(f\"the New balance is {self.balance}\")    \n",
    "\n",
    "    def View_balance(self) :\n",
    "        return self.balance"
   ]
  },
  {
   "cell_type": "code",
   "execution_count": 3,
   "metadata": {},
   "outputs": [
    {
     "data": {
      "text/plain": [
       "<__main__.User at 0x169d8c505b0>"
      ]
     },
     "execution_count": 3,
     "metadata": {},
     "output_type": "execute_result"
    }
   ],
   "source": [
    "user1 = User(\"mohammed\" , 33 , \"male\" , 1000)\n",
    "user1"
   ]
  },
  {
   "cell_type": "markdown",
   "metadata": {},
   "source": [
    "## Loan Application in CIB Bank"
   ]
  },
  {
   "cell_type": "code",
   "execution_count": 5,
   "metadata": {},
   "outputs": [],
   "source": [
    "class CIB(Bank):\n",
    "\n",
    "    def Loan_app(self,amount,duration):\n",
    "        self.amount = amount\n",
    "        self.duration = duration\n",
    "        if amount > 1000000 :\n",
    "            print (\"Our limit is 1000000\")\n",
    "        else :\n",
    "            print (\"Your Application is Under Supervision\")    \n",
    "\n"
   ]
  },
  {
   "cell_type": "markdown",
   "metadata": {},
   "source": [
    "## Loan Application in QNB Bank"
   ]
  },
  {
   "cell_type": "code",
   "execution_count": 6,
   "metadata": {},
   "outputs": [],
   "source": [
    "class QNB(Bank):\n",
    "\n",
    "    def Loan_app(self,amount,duration):\n",
    "        self.amount = amount\n",
    "        self.duration = duration\n",
    "        if amount > 2000000 :\n",
    "            print (\"Our limit is 1000000\")\n",
    "        else :\n",
    "            print (\"Your Application is Under Supervision\")    \n",
    "\n"
   ]
  }
 ],
 "metadata": {
  "interpreter": {
   "hash": "b3ba2566441a7c06988d0923437866b63cedc61552a5af99d1f4fb67d367b25f"
  },
  "kernelspec": {
   "display_name": "Python 3.8.8 ('base')",
   "language": "python",
   "name": "python3"
  },
  "language_info": {
   "codemirror_mode": {
    "name": "ipython",
    "version": 3
   },
   "file_extension": ".py",
   "mimetype": "text/x-python",
   "name": "python",
   "nbconvert_exporter": "python",
   "pygments_lexer": "ipython3",
   "version": "3.8.8"
  },
  "orig_nbformat": 4
 },
 "nbformat": 4,
 "nbformat_minor": 2
}
